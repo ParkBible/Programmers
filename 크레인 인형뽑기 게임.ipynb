{
 "cells": [
  {
   "cell_type": "code",
   "execution_count": null,
   "id": "5a07403f",
   "metadata": {},
   "outputs": [],
   "source": [
    "# moves의 0번째 요소가 1이니까,\n",
    "# board[n][1] 들 중에서 처음으로 0이 아닌 [n][1]의 숫자를 뽑아서 0으로 만들고, 리스트 r에 넣음\n",
    "# 리스트 r에서 2회 연속하여 나오면 없애고 변수 +1을 함.\n",
    "# moves에서 1은 board에서 0으로 취급한다.\n",
    "collect = []\n",
    "def solution(board, moves):\n",
    "    answer = 0\n",
    "    for i in range(len(moves)):\n",
    "        for j in range(len(board)):\n",
    "            if(board[j][moves[i]-1] != 0):\n",
    "                collect.append(board[j][moves[i]-1])\n",
    "                board[j][moves[i]-1] = 0\n",
    "                break\n",
    "                \n",
    "    # for k in range(len(collect)):\n",
    "    #     print(collect[k])\n",
    "    loop_cnt = 0\n",
    "    move = True\n",
    "\n",
    "\n",
    "    while(move == True):\n",
    "        for t in range(len(collect)):\n",
    "            if(t >= len(collect)-1):\n",
    "                break\n",
    "            elif (collect[t] == collect[t+1]):\n",
    "                print(collect.pop(t))\n",
    "                print(collect.pop(t))\n",
    "                answer += 2\n",
    "        if(loop_cnt == 0): # 첫 번째 시행일시\n",
    "            answer_save = answer\n",
    "        else:\n",
    "            if(answer_save != answer): # 변동이 있다면\n",
    "                answer_save = answer\n",
    "            else:\n",
    "                move = False\n",
    "        loop_cnt += 1\n",
    "    return answer"
   ]
  }
 ],
 "metadata": {
  "kernelspec": {
   "display_name": "Python 3",
   "language": "python",
   "name": "python3"
  },
  "language_info": {
   "codemirror_mode": {
    "name": "ipython",
    "version": 3
   },
   "file_extension": ".py",
   "mimetype": "text/x-python",
   "name": "python",
   "nbconvert_exporter": "python",
   "pygments_lexer": "ipython3",
   "version": "3.8.10"
  }
 },
 "nbformat": 4,
 "nbformat_minor": 5
}
